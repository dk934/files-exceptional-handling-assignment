{
 "cells": [
  {
   "cell_type": "markdown",
   "id": "3d67b203-d204-4abc-9d1c-0fff7be9e6e7",
   "metadata": {},
   "source": [
    "1. What is the difference between interpreted and compiled languages?\n",
    "   A compiled language translates the entire source code into machine code before execution, creating an executable file that can run directly on the \n",
    "   target machine, while an interpreted language executes the code line by line without pre-compiling it, requiring an interpreter program to read and \n",
    "   execute the source code each time it is run; this means compiled languages generally run faster than interpreted languages due to the upfront \n",
    "   translation process. \n",
    "\n",
    "   \n"
   ]
  },
  {
   "cell_type": "markdown",
   "id": "9ce8c7ac-5d58-4024-adde-22e557cd61fb",
   "metadata": {},
   "source": [
    "2. What is exception handling in Python?\n",
    "   \n",
    "   Exception handling in Python is a mechanism that allows you to handle runtime errors (or exceptions) in a controlled way, preventing the program \n",
    "   from crashing and providing meaningful responses when errors occur.\n",
    "\n",
    "   To handle exceptions, we must utilise the try and except blocks. Define dangerous code that can throw an exception inside the try block and related \n",
    "   handling code inside the except block.\n",
    "\n",
    "\n",
    "   Syntax:\n",
    "   try:\n",
    "   statements in try block\n",
    "   except:\n",
    "   executed when exception occurred in try block"
   ]
  },
  {
   "cell_type": "markdown",
   "id": "484066b7-189d-4082-8473-3fe84e8322c7",
   "metadata": {},
   "source": [
    "3. What is the purpose of the finally block in exception handling?\n",
    "\n",
    "   The finally block in Python is used in conjunction with the try block statement. The finally block is used to write code that must be executed \n",
    "   regardless of whether the try block generates an error.\n",
    "\n",
    "   Syntax :\n",
    "   try :\n",
    "   #Block of code\n",
    "   finally:\n",
    "   #this will always be executed"
   ]
  },
  {
   "cell_type": "markdown",
   "id": "f1f9d944-6a67-40f1-abbd-f93a17d6c20f",
   "metadata": {},
   "source": [
    "4. What is logging in Python?\n",
    "   Logging in Python refers to the process of recording messages or information about the execution of a program. It helps developers track events, \n",
    "   errors, and debug issues. Python provides a built-in module called logging to facilitate logging in an application.\n",
    "\n",
    "   By using the logging module, you can create flexible, configurable logs that capture important information and improve the reliability and \n",
    "   traceability of your software."
   ]
  },
  {
   "cell_type": "markdown",
   "id": "e25529dd-cc39-43ca-9d90-b3a97cf57396",
   "metadata": {},
   "source": [
    "5. What is the significance of the __del__ method in Python?\n",
    "\n",
    "   The __del__ method in Python is a destructor method, which is automatically called when an object is about to be destroyed. It is part of the Python \n",
    "   object model and is used to define cleanup operations for an object, such as releasing resources or closing files, when the object is no longer \n",
    "   needed or is about to be garbage collected."
   ]
  },
  {
   "cell_type": "markdown",
   "id": "ade1a67e-5658-4d8f-a95d-c96ea5bc83b2",
   "metadata": {},
   "source": [
    "7. What is the difference between import and from ... import in Python?\n",
    "\n",
    "   In Python, both import and from ... import are used to bring in modules or specific components from modules, but they differ in syntax and how they \n",
    "   allow access to functions, classes, and variables.\n",
    "\n",
    "   Import Statement\n",
    "   The import statement is used to import an entire module. After importing the module, you access its functions, classes, or variables by prefixing \n",
    "   them with the module name.\n",
    "\n",
    "   import module_name\n",
    "\n",
    "   from ... import Statement\n",
    "   The from ... import statement is used to import specific components (like functions, classes, or variables) from a module, which allows you to use \n",
    "   them directly without needing to prefix them with the module name.\n",
    "\n",
    "   from module_name import component_name\n"
   ]
  },
  {
   "cell_type": "markdown",
   "id": "5c81cd61-c0ce-40b5-83f3-04681ad50b71",
   "metadata": {},
   "source": [
    "8. What is the purpose of the with statement when handling files in Python?"
   ]
  },
  {
   "cell_type": "markdown",
   "id": "ad90e09a-b129-4854-9b17-5f72995de55a",
   "metadata": {},
   "source": [
    "Python's with statement is used for resource management and exception handling. It simplifies the management of shared resources like file streams, ensuring that resources are properly cleaned up after use, regardless of whether an exception is raised. This statement makes the code cleaner and much more readable.\n",
    "\n",
    "“with” supports a lot of built-in methods like open()(used for opening files)"
   ]
  },
  {
   "cell_type": "markdown",
   "id": "d47f62d1-e5f8-4744-ba99-6500b1e285bf",
   "metadata": {},
   "source": [
    "9. What is the difference between multithreading and multiprocessing?\n",
    "    "
   ]
  },
  {
   "cell_type": "markdown",
   "id": "db1cf4d5-fe2d-482c-a18e-dcee4c99bc1c",
   "metadata": {},
   "source": [
    "1. In multiprocessing, each process runs independently with its own memory space. Processes do not share memory by default, and communication between \n",
    "   them requires explicit mechanisms such as inter-process communication (IPC), while In multithreading, multiple threads share the same memory space \n",
    "   within a single process.Threads can communicate more directly by accessing shared data\n",
    "\n",
    "2. In multiprocessing Processes are more isolated, providing better fault isolation. If one process crashes, it does not necessarily affect others.\n",
    "   while in Multithreading threads within the same process share the same memory space, making them more susceptible to issues such as data corruption \n",
    "   or unintended interactions.\n",
    "\n",
    "3. Multiprocessing Can take advantage of multiple CPU cores, as each process can run on a separate core.Suitable for CPU-bound tasks while \n",
    "   Multithreading is Suitable for I/O-bound tasks or tasks where parallelism can be achieved within a single process.\n",
    "\n",
    "4. In Multiprocessing Communication between processes is typically achieved through IPC mechanisms like message passing, shared memory, or file-based \n",
    "   communication while in Multithreading threads can communicate more easily by sharing data directly, as they have access to the same memory space.\n",
    "   "
   ]
  },
  {
   "cell_type": "markdown",
   "id": "2e48dc32-ddfc-4b55-8164-7c4c4f5537ea",
   "metadata": {},
   "source": [
    "10. What are the advantages of using logging in a program?\n",
    "    "
   ]
  },
  {
   "cell_type": "markdown",
   "id": "3f4f6f61-8d65-4229-bf91-03fa9788569d",
   "metadata": {
    "jupyter": {
     "source_hidden": true
    }
   },
   "source": [
    "   Python logging is a module that allows you to track events that occur while your program is running. You can use logging to record information about \n",
    "   errors, warnings, and other events that occur during program execution. And logging is a useful tool for debugging, troubleshooting, and monitoring \n",
    "   your program.\n",
    "\n",
    "   Traceability: Logs provide a detailed history of events that occur in your program.\n",
    "\n",
    "   Error and Exception Tracking: Logging helps you capture detailed information about errors, exceptions, and stack traces, allowing you to trace the \n",
    "   root cause of problems more easily.\n",
    "\n",
    "   Log Levels: The logging module provides different log levels (DEBUG, INFO, WARNING, ERROR, CRITICAL). This allows you to control the verbosity of \n",
    "   the logs and filter messages based on importance."
   ]
  },
  {
   "cell_type": "markdown",
   "id": "2f4f4d24-450c-4eff-b57f-22c0f5047bb9",
   "metadata": {},
   "source": [
    "11. What is memory management in Python?\n",
    "\n",
    "    Memory management in Python refers to the process of managing the allocation, use, and deallocation of memory for objects during the execution of a \n",
    "    Python program.\n"
   ]
  },
  {
   "cell_type": "markdown",
   "id": "4cfabd13-5952-4c2b-b33f-22126dae6ccd",
   "metadata": {},
   "source": [
    "12. What are the basic steps involved in exception handling in Python?"
   ]
  },
  {
   "cell_type": "markdown",
   "id": "09440c8c-5c37-488d-bdc8-37da95d14747",
   "metadata": {},
   "source": [
    "   Exception handling in Python allows you to handle errors or unexpected situations in a controlled manner, preventing the program from crashing and \n",
    "   allowing you to respond to errors appropriately.\n",
    "\n",
    "   Try Block:\n",
    "   The try block contains the code that you expect might raise an exception. The goal is to write the code that could potentially cause an error inside \n",
    "   this block.\n",
    "\n",
    "   Except Block:\n",
    "   If an exception is raised inside the try block, the program will jump to the corresponding except block. This block contains the code that handles \n",
    "   the exception (i.e., how the program should respond to the error). You can specify the type of exception to catch. If the exception type matches the \n",
    "   one raised, the code inside the except block is executed.\n",
    "   You can have multiple except blocks to handle different types of exceptions.\n",
    "\n",
    "   Else Block:\n",
    "   The else block is executed if no exception occurs in the try block. It's useful when you want to run code that should only execute when no error \n",
    "   happens (i.e., when the try block completes successfully).\n",
    "\n",
    "   Finally Block :\n",
    "   The finally block is always executed, regardless of whether an exception occurred or not. This is useful for cleanup operations (like closing files, \n",
    "   releasing resources, etc.) that should run no matter what."
   ]
  },
  {
   "cell_type": "markdown",
   "id": "309c9b9e-5d61-4c18-995a-0ea86c412976",
   "metadata": {},
   "source": [
    "13. Why is memory management important in Python?"
   ]
  },
  {
   "cell_type": "markdown",
   "id": "aca3709e-e930-4b30-84c6-2e6e3e38cbd5",
   "metadata": {},
   "source": [
    "  Memory management is crucial in Python because it directly impacts the performance, efficiency, and reliability of a program. In Python, memory \n",
    "  management refers to how memory is allocated, used, and released during the execution of a program. Proper memory management helps avoid memory- \n",
    "  related issues such as memory leaks, high memory consumption, and performance bottlenecks.\n",
    "\n",
    "  Efficient Resource Utilization : Good memory management ensures that memory is allocated only when needed and released when no longer in use.\n",
    "\n",
    "  Memory management affects the speed of a program. For example, if a program uses too much memory, it may lead to slower performance due to swapping \n",
    "  memory to disk (paging). Proper memory management helps maintain the performance of a program, particularly when dealing with large datasets or \n",
    "  complex algorithms."
   ]
  },
  {
   "cell_type": "markdown",
   "id": "e3dc2a5f-0326-48bd-8d16-c70b2525582f",
   "metadata": {},
   "source": [
    "14. What is the role of try and except in exception handling?\n",
    "    "
   ]
  },
  {
   "cell_type": "markdown",
   "id": "d7df3181-73af-454d-adf3-24fddb140886",
   "metadata": {},
   "source": [
    "  In Python, try and except are the key components of exception handling. Their primary role is to allow the program to handle runtime errors or \n",
    "  exceptions in a controlled manner, so that the program doesn't crash unexpectedly and can recover gracefully from errors.\n",
    "\n",
    "  The try block is where you place the code that you expect might raise an exception (i.e., an error during execution). If no exception occurs within \n",
    "  the try block, the code proceeds normally. However, if an exception is raised at any point within the try block, Python immediately stops executing \n",
    "  the code inside the try block and jumps to the except block.\n",
    "\n",
    "  The except block is used to handle the exception(s) raised in the try block. It contains the code that is executed if an exception occurs. The except \n",
    "  block can catch specific exceptions (like ZeroDivisionError, FileNotFoundError, etc.), or it can catch all exceptions generically."
   ]
  },
  {
   "cell_type": "markdown",
   "id": "79546672-727a-4ef5-9bd3-747f328b8600",
   "metadata": {},
   "source": [
    "15. How does Python's garbage collection system work?\n",
    "\n",
    "    "
   ]
  },
  {
   "cell_type": "markdown",
   "id": "7b3e74e8-8e83-4501-bc15-920cc3e21512",
   "metadata": {},
   "source": [
    "  Python’s garbage collection is a complex system designed to manage memory automatically, allowing developers to focus on writing code rather than \n",
    "  worrying about memory management. \n",
    "  Python primarily uses two mechanisms to implement garbage collection: reference counting and generational garbage collection. \n",
    "  These mechanisms work together to ensure that memory is managed efficiently, minimizing the chances of memory leaks and optimizing the performance of \n",
    "  your application.\n",
    "\n",
    "  Reference counting\n",
    "  Reference counting is the foundational method Python uses to manage memory. At its core, reference counting involves keeping track of the number of \n",
    "  references (or pointers) to an object in memory. Each time a new reference to an object is created, Python increases that object’s reference count. \n",
    "  Conversely, when a reference is removed or goes out of scope, Python decreases the reference count. \n",
    "  \n",
    "  Tracking References: Every object in Python has a reference count, which is updated whenever the object is referenced or dereferenced. For instance, \n",
    "  assigning an object to a variable or passing it to a function increases its reference count, while deleting the variable decreases the count.\n",
    "\n",
    "  Deallocating Memory: When an object’s reference count drops to zero, meaning no part of your code is using the object, Python automatically \n",
    "  deallocates the memory it occupies.\n",
    "\n",
    "  Python also employs generational garbage collection. This advanced method is designed to handle cyclic references and improve memory management \n",
    "  efficiency. The core idea behind generational garbage is based on the observation that most objects are either short-lived (temporary) or long-lived \n",
    "  (persistent). By categorizing objects based on their age, Python optimizes the garbage collection process. "
   ]
  },
  {
   "cell_type": "markdown",
   "id": "c3741417-39a2-4a1e-a30e-3a3c99137465",
   "metadata": {},
   "source": [
    "16. What is the purpose of the else block in exception handling?"
   ]
  },
  {
   "cell_type": "markdown",
   "id": "9b527228-30db-47c3-b57b-466c1c1c5c87",
   "metadata": {},
   "source": [
    "  The else block in exception handling in Python is part of the try-except structure. It is used to define code that should be executed only if no \n",
    "  exception is raised in the try block. The key purpose of the else block is to separate normal execution code from the exception-handling code, making \n",
    "  the program cleaner and more readable.\n",
    "\n",
    "  If no exception occurs in the try block:The code inside the else block will be executed. \n",
    "  If an exception occurs in the try block:Python will skip the else block and jump to the appropriate except block to handle the exception.\n",
    "\n"
   ]
  },
  {
   "cell_type": "markdown",
   "id": "4d8cbb8c-1ad0-4856-a6b5-f3b097afd173",
   "metadata": {},
   "source": [
    "17. What are the common logging levels in Python0"
   ]
  },
  {
   "cell_type": "markdown",
   "id": "6893f9e0-d136-4e75-afc8-1f612200d8ef",
   "metadata": {},
   "source": [
    "To record various occurrences, the logger offers several severity levels (warning, errors, critical, info, etc.).\n",
    "\n",
    "1. DEBUG - Detailed information, typically of interest only when diagnosing problemsR\n",
    "2. INFO - Confirmation that things are working as expectedR\n",
    "3. WARNING - .An indication that something unexpected happened, or indicative of some problem in the near future (e.g. ‘disk space low’). The software \n",
    "   is still working as expected\n",
    "4. ERROR - Due to a more serious problem, the software has not been able to perform some functionR\n",
    "5. CRITICAL - A serious error, indicating that the program itself may be unable to continue running."
   ]
  },
  {
   "cell_type": "markdown",
   "id": "e6cf443f-c097-4dba-94df-6218bc7c24f6",
   "metadata": {},
   "source": [
    "18. What is the difference between os.fork() and multiprocessing in Python?\n",
    "    "
   ]
  },
  {
   "cell_type": "markdown",
   "id": "1149d8cf-afd4-4b3f-bc3c-83e7a21c87ae",
   "metadata": {},
   "source": [
    "  In Python, both os.fork() and the multiprocessing module are used to create new processes\n",
    "\n",
    "1. os.fork():\n",
    "   os.fork() is a system call available on Unix-based operating systems (such as Linux and macOS) that creates a new child process by duplicating the \n",
    "   calling (parent) process. The child process is a copy of the parent, and both processes continue execution after the fork().\n",
    "\n",
    "2. The multiprocessing module in Python provides a more high-level interface to create and manage processes. Unlike os.fork(), it works across \n",
    "   platforms (including Windows and macOS) and abstracts away platform-specific details to make multiprocessing easier."
   ]
  },
  {
   "cell_type": "markdown",
   "id": "f81e4417-6b99-4cb7-934c-b7e505db8e07",
   "metadata": {},
   "source": [
    "19. What is the importance of closing a file in Python?"
   ]
  },
  {
   "cell_type": "markdown",
   "id": "7a200b74-6fec-45fc-a14c-e86d340d8cb0",
   "metadata": {},
   "source": [
    "  Closing a file in Python is an important step after you are done working with a file. Failing to close a file properly can lead to a number of \n",
    "  issues, including memory leaks, data loss, or corruption.\n",
    "\n",
    "   Releasing System Resources: Files are handled by the operating system, and when a file is open, the system allocates resources (such as filehandles) \n",
    "   to manage it. These resources are finite, meaning there is a limit to how many files can be open simultaneously.\n",
    "   If we don't close the file, the resources used by the file (like file handles) may not be released, leading to resource leakage, which can \n",
    "   eventually cause the system to run out of file handles and prevent further file operations.\n",
    "\n",
    "   When we write data to a file, the operating system typically uses buffering to optimize I/O operations. This means the data may not be immediately \n",
    "   written to the file but kept in a temporary buffer.\n",
    "   If we don't close the file, the data might not be fully written to disk, leading to potential data loss or corruption. Closing the file ensures that \n",
    "   all buffered data is flushed and written to the file before it is closed.\n",
    " \n",
    "   File Locking: On some operating systems, files can be locked while they are open, meaning other processes or applications cannot access them until \n",
    "   they are closed Closing the file ensures that it is unlocked, allowing other processes or users to access the file.\n",
    "\n",
    "   Avoiding Memory Leaks: If files are not closed, the Python interpreter cannot reclaim memory used by the file object, which may result in a memory \n",
    "   leak. This could lead to excessive memory usage over time, especially when working with large numbers of files."
   ]
  },
  {
   "cell_type": "markdown",
   "id": "0ba9cf51-c463-4257-8773-2412f958030b",
   "metadata": {},
   "source": [
    "20. What is the difference between file.read() and file.readline() in Python?"
   ]
  },
  {
   "cell_type": "markdown",
   "id": "cd18ce95-75ed-43b8-8e6f-570166bdc252",
   "metadata": {},
   "source": [
    "  In Python, both file.read() and file.readline() are methods used to read data from a file\n",
    "\n",
    "  1. file.read(): Reads the entire contents of a file (or a specified number of bytes) and returns a single string containing all the characters in the \n",
    "     file (or up to the specified number of bytes).When called without arguments, file.read() reads the entire file and returns it as a single string\n",
    "\n",
    "  2.file.readline(): Reads a single line from the file and returns a string representing one line from the file. Each time it is called, it reads the \n",
    "   next line, including the newline character (\\n) at the end of the line. When called repeatedly, file.readline() reads the file line by line, \n",
    "   returning one line at a time until the end of the file is reached It does not automatically load the entire file into memory, so it can be more \n",
    "   memory-efficient for large files when you only need to process one line at a time.Once the end of the file is reached, readline() returns an empty \n",
    "   string ('')."
   ]
  },
  {
   "cell_type": "markdown",
   "id": "e0157b93-5440-4511-b64a-5b8329f66d1d",
   "metadata": {},
   "source": [
    "21. What is the logging module in Python used for?"
   ]
  },
  {
   "cell_type": "markdown",
   "id": "2185375b-75a0-4cf6-ae03-f631b4a23eac",
   "metadata": {},
   "source": [
    "The logging module in Python is used to track and record events, errors, and information during the execution of a program. It provides a flexible framework for generating log messages, which can be stored, displayed, or monitored. The logging system is essential for debugging, monitoring, and maintaining applications, especially in production environments."
   ]
  },
  {
   "cell_type": "markdown",
   "id": "638ac113-ee36-4974-b0bf-a8593b9971cf",
   "metadata": {},
   "source": [
    "22. What is the os module in Python used for in file handling?"
   ]
  },
  {
   "cell_type": "markdown",
   "id": "30035aca-f85d-4aef-80e4-6ce2c16b6820",
   "metadata": {},
   "source": [
    "The os module in Python provides a way to interact with the underlying operating system, and it includes several functions that are useful for file handling and working with the filesystem. The os module helps manage files, directories, and perform other OS-related tasks, such as checking the existence of files or directories, renaming, removing, and moving files."
   ]
  },
  {
   "cell_type": "markdown",
   "id": "d3eec444-2919-4db7-a184-654ddcf1b499",
   "metadata": {},
   "source": [
    "23. What are the challenges associated with memory management in Python?\n",
    "    "
   ]
  },
  {
   "cell_type": "markdown",
   "id": "fe2ee0d9-2b01-47a6-9d6e-0426e9137d8f",
   "metadata": {},
   "source": [
    "Reference Counting and Circular References: Python uses reference counting to track the number of references to each object. When an object's reference count reaches zero, it is automatically deallocated. However, circular references can occur when objects reference each other, forming a cycle (e.g., two objects referring to each other). These cycles can prevent objects from being deallocated because the reference count never reaches zero, causing memory leaks.\n",
    "\n",
    "Memory fragmentation occurs when memory is allocated and deallocated in small chunks, leading to inefficient use of memory. Python uses pools of memory for small objects to mitigate fragmentation, but it’s still a potential problem in applications with a high allocation and deallocation rate."
   ]
  },
  {
   "cell_type": "markdown",
   "id": "f53a4e4e-b3a1-42d3-b06b-1c6d6266fa36",
   "metadata": {},
   "source": [
    "24. How do you raise an exception manually in Python?"
   ]
  },
  {
   "cell_type": "markdown",
   "id": "b19e950a-6cd9-473b-ad17-7b356ca15898",
   "metadata": {},
   "source": [
    "In Python, We can manually raise an exception using the raise statement. This allows us to trigger an exception at a specific point in the program, either with a predefined exception or a custom one. Raising exceptions manually can be useful for signaling errors or abnormal conditions in your program.\n",
    "\n",
    "\n",
    "Ex : raise Exception(\"This is an error message\")\n",
    "Exception: This is the base class for all built-in exceptions in Python.\n",
    "\"This is an error message\": This is the message associated with the exception, which can provide more information about what caused the error."
   ]
  },
  {
   "cell_type": "markdown",
   "id": "8d32b02c-e1dc-465c-834b-b81f18256ffd",
   "metadata": {},
   "source": [
    "25. Why is it important to use multithreading in certain applications?"
   ]
  },
  {
   "cell_type": "markdown",
   "id": "3744b0ba-3562-4fc6-b18a-24eca6388bf7",
   "metadata": {},
   "source": [
    "Multithreading is an important technique in programming because it allows an application to perform multiple tasks concurrently, improving efficiency and responsiveness in certain types of applications. In Python, multithreading is especially useful for I/O-bound tasks or for improving the structure and scalability of programs.\n",
    "\n",
    "I/O-bound tasks involve waiting for external operations, such as reading from a file, making network requests, or interacting with a database. During this waiting time, the program is idle and could potentially be used for other tasks With multithreading, while one thread is waiting for an I/O operation to complete, other threads can continue processing, which leads to better overall utilization of the CPU. This is especially beneficial in scenarios where tasks involve long periods of waiting.\n",
    "\n"
   ]
  },
  {
   "cell_type": "code",
   "execution_count": null,
   "id": "e5bffc62-ddb2-4e94-90e0-ccd2f704a376",
   "metadata": {},
   "outputs": [],
   "source": []
  },
  {
   "cell_type": "markdown",
   "id": "e333f6ad-22e9-484d-9f6e-00fd79f7bc58",
   "metadata": {},
   "source": [
    "1. How can you open a file for writing in Python and write a string to it?"
   ]
  },
  {
   "cell_type": "code",
   "execution_count": 3,
   "id": "05684667-8100-4274-8fbe-21a590ad9e01",
   "metadata": {},
   "outputs": [],
   "source": [
    "#In Python, we can open a file for writing using the built-in open() function. To write a string to the file, we can use the write() method.\n",
    "\n",
    "#Open the file in write mode using the open() function.\n",
    "\n",
    "#Write the string to the file using the write() method.\n",
    "\n",
    "#Close the file to ensure that the data is saved and resources are released.\n",
    "\n",
    "with open('example.txt', 'w') as file:\n",
    "    file.write(\"Hello, this is a string written to the file! \\n This is second line \\n this is third line\")\n"
   ]
  },
  {
   "cell_type": "markdown",
   "id": "93b26a35-e2bb-4ff0-b17e-79be25f09c52",
   "metadata": {},
   "source": [
    "2. Write a Python program to read the contents of a file and print each line?"
   ]
  },
  {
   "cell_type": "code",
   "execution_count": 4,
   "id": "d0f6d857-4f38-46b0-b2b5-98362d1497cf",
   "metadata": {},
   "outputs": [
    {
     "name": "stdout",
     "output_type": "stream",
     "text": [
      "Hello, this is a string written to the file! \n",
      " This is second line \n",
      " this is third line"
     ]
    }
   ],
   "source": [
    "\n",
    "with open('example.txt', 'r') as file:\n",
    "    for line in file:\n",
    "        print(line, end='')\n",
    "file.close()\n"
   ]
  },
  {
   "cell_type": "markdown",
   "id": "44419946-e4cd-4eb0-8985-8d58dc5f2397",
   "metadata": {},
   "source": [
    "3. How would you handle a case where the file doesn't exist while trying to open it for reading?"
   ]
  },
  {
   "cell_type": "code",
   "execution_count": 6,
   "id": "e5faf810-1864-4b57-9e88-e12732643730",
   "metadata": {},
   "outputs": [
    {
     "name": "stdout",
     "output_type": "stream",
     "text": [
      "The file 'example1.txt' does not exist.\n"
     ]
    }
   ],
   "source": [
    "try:\n",
    "    \n",
    "    file = open('example1.txt', 'r')\n",
    "\n",
    "   \n",
    "    for line in file:\n",
    "        print(line, end='')  \n",
    "\n",
    "    \n",
    "    file.close()\n",
    "\n",
    "except FileNotFoundError:\n",
    "    print(\"The file 'example1.txt' does not exist.\")\n"
   ]
  },
  {
   "cell_type": "markdown",
   "id": "71598a62-91f0-48b6-8849-6ef8f30724f6",
   "metadata": {},
   "source": [
    "4. Write a Python script that reads from one file and writes its content to another file?"
   ]
  },
  {
   "cell_type": "code",
   "execution_count": 8,
   "id": "26f71c7d-8f62-41d2-95e6-444ce1c796ce",
   "metadata": {},
   "outputs": [
    {
     "name": "stdout",
     "output_type": "stream",
     "text": [
      "Hello, this is a string written to the file! \n",
      " This is second line \n",
      " this is third line\n"
     ]
    }
   ],
   "source": [
    "file1 = open('example.txt', 'r')\n",
    "\n",
    "\n",
    "file2 = open('file2.txt','w')\n",
    "\n",
    "\n",
    "for line in file1:\n",
    "    file2.write(line)\n",
    "\n",
    "\n",
    "file1.close()\n",
    "file2.close()\n",
    "\n",
    "\n",
    "file2 = open('file2.txt','r')\n",
    "\n",
    "\n",
    "print(file2.read())\n",
    "\n",
    "\n",
    "file2.close()\n",
    "\n",
    "\n"
   ]
  },
  {
   "cell_type": "markdown",
   "id": "65bd3303-46f5-4f08-a924-c243a0e6024a",
   "metadata": {},
   "source": [
    "5.How would you catch and handle division by zero error in Python?\n"
   ]
  },
  {
   "cell_type": "code",
   "execution_count": 1,
   "id": "31f323a2-f851-407d-a72a-c49364be1b6a",
   "metadata": {},
   "outputs": [
    {
     "name": "stdout",
     "output_type": "stream",
     "text": [
      "Error: Cannot divide by zero!\n",
      "Exception details: division by zero\n",
      "Execution completed.\n"
     ]
    }
   ],
   "source": [
    "try:\n",
    "    result = 10 / 0\n",
    "except ZeroDivisionError as e:\n",
    "    print(\"Error: Cannot divide by zero!\")\n",
    "    print(f\"Exception details: {e}\")\n",
    "else:\n",
    "    print(\"Division successful, result is:\", result)\n",
    "finally:\n",
    "    print(\"Execution completed.\")\n"
   ]
  },
  {
   "cell_type": "markdown",
   "id": "109e2132-cc82-4fc6-939f-ea2dc339c202",
   "metadata": {},
   "source": [
    "6. Write a Python program that logs an error message to a log file when a division by zero exception occurs?"
   ]
  },
  {
   "cell_type": "code",
   "execution_count": 2,
   "id": "b178ae6c-71a6-4250-ba05-2d045ae263f7",
   "metadata": {},
   "outputs": [
    {
     "name": "stdout",
     "output_type": "stream",
     "text": [
      "Error: Cannot divide by zero!\n"
     ]
    }
   ],
   "source": [
    "import logging\n",
    "\n",
    "logging.basicConfig(filename='error_log.txt', level=logging.ERROR, format='%(asctime)s - %(levelname)s - %(message)s')\n",
    "\n",
    "def divide_numbers(num1, num2):\n",
    "    try:\n",
    "        result = num1 / num2\n",
    "        return result\n",
    "    except ZeroDivisionError as e:\n",
    "        logging.error(f\"Error: Attempted to divide {num1} by {num2}. Division by zero is not allowed.\")\n",
    "        print(\"Error: Cannot divide by zero!\")\n",
    "        return None\n",
    "\n",
    "\n",
    "num1 = 10\n",
    "num2 = 0\n",
    "\n",
    "result = divide_numbers(num1, num2)\n",
    "\n",
    "if result is not None:\n",
    "    print(\"The result of the division is:\", result)\n"
   ]
  },
  {
   "cell_type": "markdown",
   "id": "669bb56e-a5dd-4a18-ab93-785bb7c0edc2",
   "metadata": {},
   "source": [
    "7. How do you log information at different levels (INFO, ERROR, WARNING) in Python using the logging module?\n",
    "   "
   ]
  },
  {
   "cell_type": "markdown",
   "id": "f19d2d7e-4bdc-4fdc-9182-dc63230c01c3",
   "metadata": {},
   "source": [
    "In Python, the logging module allows you to log messages at various levels of severity, such as INFO, ERROR, and WARNING. Each log level has its own purpose, and which we can control which messages get logged by setting the log level threshold.\n",
    "\n",
    "Log Levels in Python's Logging Module:\n",
    "DEBUG: Detailed information, typically useful for diagnosing problems.\n",
    "\n",
    "INFO: Informational messages that highlight the progress of the application.\n",
    "\n",
    "WARNING: Indicates a warning about something that may not be ideal but doesn't stop the program.\n",
    "\n",
    "ERROR: Indicates a more serious problem that affects the program's operation.\n",
    "\n",
    "CRITICAL: A very serious error that may cause the program to stop.\n",
    "\n"
   ]
  },
  {
   "cell_type": "code",
   "execution_count": 7,
   "id": "35c4ea7c-adea-4c99-a1fa-103027b6634a",
   "metadata": {},
   "outputs": [
    {
     "name": "stdout",
     "output_type": "stream",
     "text": [
      "Logging messages have been written to 'app_log.txt'.\n"
     ]
    }
   ],
   "source": [
    "import logging\n",
    "\n",
    "logging.basicConfig(\n",
    "    filename='app_log.txt',       \n",
    "    level=logging.DEBUG,          \n",
    "    format='%(asctime)s - %(levelname)s - %(message)s' \n",
    ")\n",
    "\n",
    "\n",
    "logging.debug('This is a DEBUG message.')\n",
    "logging.info('This is an INFO message.')\n",
    "logging.warning('This is a WARNING message.')\n",
    "logging.error('This is an ERROR message.')\n",
    "logging.critical('This is a CRITICAL message.')\n",
    "\n",
    "print(\"Logging messages have been written to 'app_log.txt'.\")\n"
   ]
  },
  {
   "cell_type": "markdown",
   "id": "f3be49d4-833b-480f-b937-855220131c0c",
   "metadata": {},
   "source": [
    "8. Write a program to handle a file opening error using exception handling?\n",
    "   "
   ]
  },
  {
   "cell_type": "code",
   "execution_count": 8,
   "id": "2257f7d4-183d-4f32-ac7e-8d775d2f05ed",
   "metadata": {},
   "outputs": [
    {
     "name": "stdout",
     "output_type": "stream",
     "text": [
      "Error: The file 'non_existent_file.txt' does not exist.\n",
      "File handling operation complete.\n"
     ]
    }
   ],
   "source": [
    "def open_file(file_name):\n",
    "    try:\n",
    "        with open(file_name, 'r') as file:\n",
    "            content = file.read()\n",
    "            print(\"File content successfully read.\")\n",
    "            print(content)\n",
    "    except FileNotFoundError:\n",
    "        print(f\"Error: The file '{file_name}' does not exist.\")\n",
    "    except PermissionError:\n",
    "        print(f\"Error: You do not have permission to access the file '{file_name}'.\")\n",
    "    except Exception as e:\n",
    "        print(f\"An unexpected error occurred: {e}\")\n",
    "    finally:\n",
    "        print(\"File handling operation complete.\")\n",
    "\n",
    "\n",
    "file_name = \"non_existent_file.txt\"\n",
    "open_file(file_name)\n"
   ]
  },
  {
   "cell_type": "markdown",
   "id": "931a7c37-9862-418d-92d2-41f5aa2b8e47",
   "metadata": {},
   "source": [
    "9. How can you read a file line by line and store its content in a list in Python?\n",
    "    \n"
   ]
  },
  {
   "cell_type": "code",
   "execution_count": 10,
   "id": "30ed8380-28da-4803-921b-56d269af2199",
   "metadata": {},
   "outputs": [],
   "source": [
    "def read_file_lines(file_name):\n",
    "    try:\n",
    "        lines = [] \n",
    "        with open(file_name, 'r') as file:\n",
    "            for line in file:  # Iterate over each line in the file\n",
    "                lines.append(line.strip())  \n",
    "        return lines\n",
    "    except FileNotFoundError:\n",
    "        print(f\"Error: The file '{file_name}' was not found.\")\n",
    "    except Exception as e:\n",
    "        print(f\"An error occurred: {e}\")\n",
    "\n",
    "\n"
   ]
  },
  {
   "cell_type": "markdown",
   "id": "93fa3e08-5350-4e95-bbdf-de8fbcd304e0",
   "metadata": {},
   "source": [
    " 10. How can you append data to an existing file in Python?\n",
    "     "
   ]
  },
  {
   "cell_type": "markdown",
   "id": "d83daac0-d557-48ed-8be2-ae273121affa",
   "metadata": {},
   "source": [
    "#In Python, we can append data to an existing file using the open() function with the mode 'a', which stands for \"append\". This mode allows us to add content to the end of the file without overwriting its existing content.\n",
    "\n",
    "with open(\"myfile.txt\", \"a\") as file:\n",
    "    file.write(\"new data that is being appended to the file.\\n\")\n",
    "\n",
    "#open(file_name, 'a'): The file is opened in append mode ('a'), which means that any new content will be added to the end of the file.\n",
    "\n",
    "#file.write(data + '\\n'): The write() method appends the data to the file. The + '\\n' ensures that the data is written on a new line. If you don't add the newline character, all new data will be appended directly after the existing content without a line break.\n",
    "\n",
    "ith open(...): The with statement ensures that the file is properly closed after the block of code is executed."
   ]
  },
  {
   "cell_type": "markdown",
   "id": "a5bdc7c7-8ca1-43d8-955c-12a8e777246f",
   "metadata": {},
   "source": [
    "11. Write a Python program that uses a try-except block to handle an error when attempting to access a dictionary key that doesn't exist?"
   ]
  },
  {
   "cell_type": "code",
   "execution_count": 12,
   "id": "1fa9661f-d8db-46aa-b56e-2b18f9796f9e",
   "metadata": {},
   "outputs": [
    {
     "name": "stdout",
     "output_type": "stream",
     "text": [
      "The value for the key 'age' is: 30\n",
      "Access complete.\n",
      "Error: The key 'country' does not exist in the dictionary.\n",
      "Access complete.\n"
     ]
    }
   ],
   "source": [
    "def access_dict_key(my_dict, key):\n",
    "    try:\n",
    "        value = my_dict[key]\n",
    "        print(f\"The value for the key '{key}' is: {value}\")\n",
    "    except KeyError:\n",
    "        print(f\"Error: The key '{key}' does not exist in the dictionary.\")\n",
    "    finally:\n",
    "        print(\"Access complete.\")\n",
    "\n",
    "\n",
    "my_dict = {\"name\": \"John\", \"age\": 30, \"city\": \"New York\"}\n",
    "\n",
    "access_dict_key(my_dict, \"age\")\n",
    "\n",
    "access_dict_key(my_dict, \"country\")\n"
   ]
  },
  {
   "cell_type": "markdown",
   "id": "bbe9690d-5fb2-436c-859d-0048dd1c64f1",
   "metadata": {},
   "source": [
    "12. Write a program that demonstrates using multiple except blocks to handle different types of exceptions?"
   ]
  },
  {
   "cell_type": "code",
   "execution_count": 18,
   "id": "0f2fdde7-34a0-404a-a4cd-c3438adf9580",
   "metadata": {},
   "outputs": [
    {
     "name": "stdin",
     "output_type": "stream",
     "text": [
      "Enter the first number:  10\n",
      "Enter the second number:  2\n"
     ]
    },
    {
     "name": "stdout",
     "output_type": "stream",
     "text": [
      "Result: 5.0\n"
     ]
    }
   ],
   "source": [
    "def divide_numbers(a, b):\n",
    "  try:\n",
    "    a = float(a)\n",
    "    b = float(b)\n",
    "\n",
    "    result = a / b\n",
    "    return result\n",
    "\n",
    "  except TypeError:\n",
    "    print(\"Error: One or both inputs are not numbers.\")\n",
    "    return None\n",
    "\n",
    "  except ZeroDivisionError:\n",
    "    print(\"Error: Cannot divide by zero.\")\n",
    "    return None\n",
    "\n",
    "  except ValueError:\n",
    "    print(\"Error: Invalid input. Please enter valid numbers.\")\n",
    "    return None\n",
    "\n",
    "\n",
    "num1 = input(\"Enter the first number: \")\n",
    "num2 = input(\"Enter the second number: \")\n",
    "\n",
    "result = divide_numbers(num1, num2)\n",
    "\n",
    "if result is not None:\n",
    "  print(\"Result:\", result)"
   ]
  },
  {
   "cell_type": "markdown",
   "id": "d9bd648c-0d45-4f67-a9b5-2c4c787afcda",
   "metadata": {},
   "source": [
    "13. How would you check if a file exists before attempting to read it in Python?"
   ]
  },
  {
   "cell_type": "markdown",
   "id": "c3b5be0d-14ab-4f73-84fa-04655c2c7abe",
   "metadata": {},
   "source": [
    "In Python, we can check if a file exists before attempting to read it using the os.path.exists() function or the pathlib module. Both methods allow us to verify if the file is present at the specified path.\n",
    "\n",
    "Using os.path.exists()\n",
    "The os.path.exists() function checks if a file or directory exists at the specified path. If the file exists, it returns True; otherwise, it returns False.\n",
    "\n",
    "Using pathlib.Path.exists()\n",
    "The pathlib module provides an object-oriented approach to handle file system paths. You can use the Path.exists() method from pathlib to check if a file exists."
   ]
  },
  {
   "cell_type": "markdown",
   "id": "0b0ea604-4359-4398-826c-2150fe6dc471",
   "metadata": {},
   "source": [
    "14. Write a program that uses the logging module to log both informational and error messages?"
   ]
  },
  {
   "cell_type": "code",
   "execution_count": 21,
   "id": "b5b2de94-c15b-45ce-9214-a98cbfddf4bf",
   "metadata": {},
   "outputs": [],
   "source": [
    "import logging\n",
    "\n",
    "logging.basicConfig(level=logging.DEBUG, format='%(asctime)s - %(levelname)s - %(message)s')\n",
    "\n",
    "\n",
    "def log_messages():\n",
    "    logging.info(\"This is an informational message.\")\n",
    "    try:\n",
    "        x = 10\n",
    "        y = 0\n",
    "        result = x / y \n",
    "    except ZeroDivisionError as e:\n",
    "        logging.error(f\"An error occurred: {e}\")\n",
    "\n",
    "log_messages()\n"
   ]
  },
  {
   "cell_type": "markdown",
   "id": "d68d833f-2963-4b20-9616-695d739a9878",
   "metadata": {},
   "source": [
    "15. Write a Python program that prints the content of a file and handles the case when the file is empty?"
   ]
  },
  {
   "cell_type": "code",
   "execution_count": 22,
   "id": "a5b455a5-7048-4bb7-b1ec-ec869cb5f7dc",
   "metadata": {},
   "outputs": [
    {
     "name": "stdout",
     "output_type": "stream",
     "text": [
      "Error: File 'my_file.txt' not found.\n"
     ]
    }
   ],
   "source": [
    "def print_file_content(filename):\n",
    "  try:\n",
    "    with open(filename, 'r') as file:\n",
    "      content = file.read()\n",
    "      if content:\n",
    "        print(content)\n",
    "      else:\n",
    "        print(f\"The file '{filename}' is empty.\")\n",
    "  except FileNotFoundError:\n",
    "    print(f\"Error: File '{filename}' not found.\")\n",
    "\n",
    "\n",
    "filename = \"my_file.txt\"\n",
    "print_file_content(filename)"
   ]
  },
  {
   "cell_type": "markdown",
   "id": "eb0954cc-1c2f-43aa-8adb-2e95b42e092d",
   "metadata": {},
   "source": [
    "16. Demonstrate how to use memory profiling to check the memory usage of a small program?"
   ]
  },
  {
   "cell_type": "code",
   "execution_count": null,
   "id": "11fb1039-5f36-4d61-bff4-e30a09af75f7",
   "metadata": {},
   "outputs": [],
   "source": [
    "@profile\n",
    "def generate_large_list():\n",
    "    print(\"Generating a large list of numbers...\")\n",
    "    large_list = [i for i in range(10**6)] \n",
    "    return large_list\n",
    "\n",
    "@profile\n",
    "def process_data():\n",
    "    print(\"Processing the large list...\")\n",
    "    large_list = generate_large_list()\n",
    "    total = sum(large_list) \n",
    "    print(\"Processing complete.\")\n",
    "    return total\n",
    "\n",
    "if __name__ == \"__main__\":\n",
    "    process_data()\n"
   ]
  },
  {
   "cell_type": "markdown",
   "id": "85c0909f-781c-4b36-b197-aad71aa287eb",
   "metadata": {},
   "source": [
    "17. Write a Python program to create and write a list of numbers to a file, one number per line?"
   ]
  },
  {
   "cell_type": "code",
   "execution_count": 24,
   "id": "f70662b1-4928-4c98-9b35-97fa4791b1b0",
   "metadata": {},
   "outputs": [
    {
     "name": "stdout",
     "output_type": "stream",
     "text": [
      "Numbers written to numbers.txt\n"
     ]
    }
   ],
   "source": [
    "def write_numbers_to_file(numbers, filename):\n",
    "  with open(filename, 'w') as file:\n",
    "    for number in numbers:\n",
    "       file.write(f\"{number}\\n\")\n",
    "\n",
    "\n",
    "my_numbers = [10, 20, 30, 40, 50]\n",
    "filename = \"numbers.txt\"\n",
    "\n",
    "write_numbers_to_file(my_numbers, filename)\n",
    "print(f\"Numbers written to {filename}\")"
   ]
  },
  {
   "cell_type": "markdown",
   "id": "0340ed07-8bc6-414f-b476-4fc4a11903e4",
   "metadata": {},
   "source": [
    "18. How would you implement a basic logging setup that logs to a file with rotation after 1MB?"
   ]
  },
  {
   "cell_type": "code",
   "execution_count": 25,
   "id": "52668e2b-874a-4700-b71b-7a87bf2c320d",
   "metadata": {},
   "outputs": [],
   "source": [
    "import logging\n",
    "from logging.handlers import RotatingFileHandler\n",
    "\n",
    "\n",
    "log_file = \"app.log\"\n",
    "max_log_size = 1 * 1024 * 1024  \n",
    "backup_count = 3 \n",
    "\n",
    "\n",
    "handler = RotatingFileHandler(log_file, maxBytes=max_log_size, backupCount=backup_count)\n",
    "\n",
    "formatter = logging.Formatter('%(asctime)s - %(levelname)s - %(message)s')\n",
    "handler.setFormatter(formatter)\n",
    "\n",
    "logger = logging.getLogger()\n",
    "logger.setLevel(logging.DEBUG)  # Log all levels DEBUG and above\n",
    "logger.addHandler(handler)\n",
    "\n",
    "\n",
    "logger.debug(\"This is a debug message.\")\n",
    "logger.info(\"This is an info message.\")\n",
    "logger.warning(\"This is a warning message.\")\n",
    "logger.error(\"This is an error message.\")\n",
    "logger.critical(\"This is a critical message.\")\n"
   ]
  },
  {
   "cell_type": "markdown",
   "id": "84033f74-d636-44d2-ac78-72e4b678ab9c",
   "metadata": {},
   "source": [
    "19. Write a program that handles both IndexError and KeyError using a try-except block?"
   ]
  },
  {
   "cell_type": "code",
   "execution_count": 27,
   "id": "cd585998-de3e-4c70-9166-9b056166b81b",
   "metadata": {},
   "outputs": [
    {
     "name": "stdout",
     "output_type": "stream",
     "text": [
      "Accessing index 2 in my_list: 3\n",
      "KeyError occurred: 'c'\n"
     ]
    }
   ],
   "source": [
    "def handle_errors():\n",
    "    my_list = [1, 2, 3]\n",
    "    my_dict = {\"a\": 1, \"b\": 2}\n",
    "\n",
    "    try:\n",
    "        index = 2\n",
    "        print(f\"Accessing index {index} in my_list: {my_list[index]}\")  \n",
    "\n",
    "        key = \"c\"\n",
    "        print(f\"Accessing key '{key}' in my_dict: {my_dict[key]}\")  \n",
    "\n",
    "    except IndexError as ie:\n",
    "        print(f\"IndexError occurred: {ie}\")\n",
    "\n",
    "    except KeyError as ke:\n",
    "        print(f\"KeyError occurred: {ke}\")\n",
    "\n",
    "# Call the function to demonstrate error handling\n",
    "handle_errors()\n"
   ]
  },
  {
   "cell_type": "markdown",
   "id": "0f73abb6-fa7b-4ed1-bdb9-e19bff78dcd8",
   "metadata": {},
   "source": [
    "20. How would you open a file and read its contents using a context manager in Python?"
   ]
  },
  {
   "cell_type": "code",
   "execution_count": 29,
   "id": "7b9dd85f-e770-47e4-b9b4-09d25741ea82",
   "metadata": {},
   "outputs": [
    {
     "name": "stdout",
     "output_type": "stream",
     "text": [
      "File content:\n",
      "Hello, this is a string written to the file! \n",
      " This is second line \n",
      " this is third line\n"
     ]
    }
   ],
   "source": [
    "def read_file(file_name):\n",
    "    try:\n",
    "        with open(file_name, 'r') as file:\n",
    "            content = file.read()\n",
    "            print(\"File content:\")\n",
    "            print(content)\n",
    "    except FileNotFoundError:\n",
    "        print(f\"Error: The file '{file_name}' was not found.\")\n",
    "    except Exception as e:\n",
    "        print(f\"An error occurred: {e}\")\n",
    "\n",
    "\n",
    "file_name = \"example.txt\" \n",
    "read_file(file_name)\n"
   ]
  },
  {
   "cell_type": "markdown",
   "id": "abb34e61-029f-4c5a-95dd-dac8bc7db787",
   "metadata": {},
   "source": [
    "21. Write a Python program that reads a file and prints the number of occurrences of a specific word?"
   ]
  },
  {
   "cell_type": "code",
   "execution_count": 30,
   "id": "b6a71d49-b78f-42bb-b87b-1c721695796c",
   "metadata": {},
   "outputs": [
    {
     "name": "stdout",
     "output_type": "stream",
     "text": [
      "The word 'Python' occurs 0 time(s) in the file.\n"
     ]
    }
   ],
   "source": [
    "def count_word_occurrences(file_name, word):\n",
    "    try:\n",
    "        with open(file_name, 'r') as file:\n",
    "            content = file.read()\n",
    "            \n",
    "        word_count = content.split().count(word)\n",
    "        \n",
    "        print(f\"The word '{word}' occurs {word_count} time(s) in the file.\")\n",
    "    \n",
    "    except FileNotFoundError:\n",
    "        print(f\"Error: The file '{file_name}' was not found.\")\n",
    "    except Exception as e:\n",
    "        print(f\"An error occurred: {e}\")\n",
    "\n",
    "\n",
    "file_name = \"example.txt\"  \n",
    "word_to_search = \"Python\"  \n",
    "count_word_occurrences(file_name, word_to_search)\n"
   ]
  },
  {
   "cell_type": "markdown",
   "id": "f35f4b7f-8281-40c0-9fea-167d8b6658ce",
   "metadata": {},
   "source": [
    "22. How can you check if a file is empty before attempting to read its content?"
   ]
  },
  {
   "cell_type": "code",
   "execution_count": 32,
   "id": "f9c12135-8935-4e03-badb-44a173c912ab",
   "metadata": {},
   "outputs": [
    {
     "name": "stdout",
     "output_type": "stream",
     "text": [
      "File content:\n",
      "Hello, this is a string written to the file! \n",
      " This is second line \n",
      " this is third line\n"
     ]
    }
   ],
   "source": [
    "import os\n",
    "\n",
    "def check_and_read_file(file_name):\n",
    "    try:\n",
    "        if os.path.exists(file_name) and os.path.getsize(file_name) > 0:\n",
    "            with open(file_name, 'r') as file:\n",
    "                content = file.read()\n",
    "                print(\"File content:\")\n",
    "                print(content)\n",
    "        else:\n",
    "            print(f\"The file '{file_name}' is empty or does not exist.\")\n",
    "    except Exception as e:\n",
    "        print(f\"An error occurred: {e}\")\n",
    "\n",
    "\n",
    "file_name = \"example.txt\"\n",
    "check_and_read_file(file_name)\n"
   ]
  },
  {
   "cell_type": "markdown",
   "id": "6584e3ef-a3a2-42d8-b447-c52582614479",
   "metadata": {},
   "source": [
    "23. Write a Python program that writes to a log file when an error occurs during file handling?"
   ]
  },
  {
   "cell_type": "code",
   "execution_count": 33,
   "id": "2b9f546b-6699-4b28-b0d8-ae3157119cb4",
   "metadata": {},
   "outputs": [
    {
     "name": "stdout",
     "output_type": "stream",
     "text": [
      "Hello, this is a string written to the file! \n",
      " This is second line \n",
      " this is third line\n"
     ]
    }
   ],
   "source": [
    "import logging\n",
    "\n",
    "logging.basicConfig(\n",
    "    filename='file_handling_errors.log',  # Log file name\n",
    "    level=logging.ERROR,  # Log only errors and higher severity\n",
    "    format='%(asctime)s - %(levelname)s - %(message)s'  # Log format\n",
    ")\n",
    "\n",
    "def read_file(file_name):\n",
    "    try:\n",
    "        with open(file_name, 'r') as file:\n",
    "            content = file.read()\n",
    "            print(content)\n",
    "    \n",
    "    except FileNotFoundError:\n",
    "        logging.error(f\"File '{file_name}' not found.\")\n",
    "        print(f\"Error: The file '{file_name}' was not found.\")\n",
    "    \n",
    "    except PermissionError:\n",
    "        logging.error(f\"Permission denied to open the file '{file_name}'.\")\n",
    "        print(f\"Error: Permission denied to open the file '{file_name}'.\")\n",
    "    \n",
    "    except Exception as e:\n",
    "        logging.error(f\"An unexpected error occurred: {e}\")\n",
    "        print(f\"An error occurred: {e}\")\n",
    "\n",
    "\n",
    "file_name = \"example.txt\"  \n",
    "read_file(file_name)\n"
   ]
  },
  {
   "cell_type": "code",
   "execution_count": null,
   "id": "d947800a-7a6c-490e-afba-a1d0c9036d70",
   "metadata": {},
   "outputs": [],
   "source": []
  }
 ],
 "metadata": {
  "kernelspec": {
   "display_name": "Python 3 (ipykernel)",
   "language": "python",
   "name": "python3"
  },
  "language_info": {
   "codemirror_mode": {
    "name": "ipython",
    "version": 3
   },
   "file_extension": ".py",
   "mimetype": "text/x-python",
   "name": "python",
   "nbconvert_exporter": "python",
   "pygments_lexer": "ipython3",
   "version": "3.12.7"
  }
 },
 "nbformat": 4,
 "nbformat_minor": 5
}
